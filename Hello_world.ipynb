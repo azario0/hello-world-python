{
  "nbformat": 4,
  "nbformat_minor": 0,
  "metadata": {
    "colab": {
      "provenance": [],
      "authorship_tag": "ABX9TyNFLuwdXlRg36kI06zWwsHu",
      "include_colab_link": true
    },
    "kernelspec": {
      "name": "python3",
      "display_name": "Python 3"
    },
    "language_info": {
      "name": "python"
    }
  },
  "cells": [
    {
      "cell_type": "markdown",
      "metadata": {
        "id": "view-in-github",
        "colab_type": "text"
      },
      "source": [
        "<a href=\"https://colab.research.google.com/github/azario0/hello-world-python/blob/main/Hello_world.ipynb\" target=\"_parent\"><img src=\"https://colab.research.google.com/assets/colab-badge.svg\" alt=\"Open In Colab\"/></a>"
      ]
    },
    {
      "cell_type": "markdown",
      "source": [
        "# Different ways to print hello world .\n",
        "*There would be the code followed by the interpretation to keep the reading clear ."
      ],
      "metadata": {
        "id": "h4iVA60rzSkO"
      }
    },
    {
      "cell_type": "code",
      "execution_count": 1,
      "metadata": {
        "colab": {
          "base_uri": "https://localhost:8080/"
        },
        "id": "TzkIePZLpPgJ",
        "outputId": "33ffc636-db3d-4a0a-8ca0-37fb67479dc1"
      },
      "outputs": [
        {
          "output_type": "stream",
          "name": "stdout",
          "text": [
            "Hello, world !\n"
          ]
        }
      ],
      "source": [
        "print(\"Hello, world !\")"
      ]
    },
    {
      "cell_type": "markdown",
      "source": [
        "In here i've called the print function then sent to it a string argument without putting it on a serparated variable so it would be destroyed after the call and the usage."
      ],
      "metadata": {
        "id": "F-5rVX8FzyCZ"
      }
    },
    {
      "cell_type": "code",
      "source": [
        "print(\"Hello,\",\"world !\")"
      ],
      "metadata": {
        "colab": {
          "base_uri": "https://localhost:8080/"
        },
        "id": "XFGR5SXeumuY",
        "outputId": "cacb8f95-94c2-4e27-fd8d-679ba32c7041"
      },
      "execution_count": 4,
      "outputs": [
        {
          "output_type": "stream",
          "name": "stdout",
          "text": [
            "Hello, world !\n"
          ]
        }
      ]
    },
    {
      "cell_type": "markdown",
      "source": [
        "You can as well send two arguments or more , because the function uses args and kwargs , if you're not familiar with those words , it means that you can send it as much arguments and still works because it's dynamic , it also kwards because there's some hidden arguments like sep and end ."
      ],
      "metadata": {
        "id": "6fK82A-8z_hj"
      }
    },
    {
      "cell_type": "code",
      "source": [
        "variable = \"Hello ,world !\"\n",
        "print(variable)"
      ],
      "metadata": {
        "colab": {
          "base_uri": "https://localhost:8080/"
        },
        "id": "yCPFcMmSuyXs",
        "outputId": "7d3d66da-c64b-4078-c573-949fa64a7104"
      },
      "execution_count": 5,
      "outputs": [
        {
          "output_type": "stream",
          "name": "stdout",
          "text": [
            "Hello ,world !\n"
          ]
        }
      ]
    },
    {
      "cell_type": "markdown",
      "source": [
        "In here i've stored the hello world message on a variable and sent it as argument , our variable won't change even after the call , so it won't change it and only displays it ."
      ],
      "metadata": {
        "id": "Da8ft4aU036A"
      }
    },
    {
      "cell_type": "code",
      "source": [
        "hello = \"Hello\"\n",
        "world = \", world !\"\n",
        "print(hello+world)"
      ],
      "metadata": {
        "colab": {
          "base_uri": "https://localhost:8080/"
        },
        "id": "Hwv3Z2B6u9-6",
        "outputId": "51b1b95a-0de1-4742-87a1-45fc629c2828"
      },
      "execution_count": 6,
      "outputs": [
        {
          "output_type": "stream",
          "name": "stdout",
          "text": [
            "Hello, world !\n"
          ]
        }
      ]
    },
    {
      "cell_type": "markdown",
      "source": [
        "In here , i've splitted our message to two different variables then i've made a concatenation on the call , it would work as well as long as our arguments are at the same type , for example , it's a string with a string and there could be a number with another number in that case it would make the addition then displays it ."
      ],
      "metadata": {
        "id": "u5bHetlS1HBI"
      }
    },
    {
      "cell_type": "code",
      "source": [
        "print(\"Hello,\",\"world !\",sep='////////')\n",
        "print(\"Hello,\",\"world !\",sep='????????')\n",
        "print(\"Hello,\",\"world !\",sep=''+\"hello\")\n",
        "print(\"Hello,\",\"world !\",sep='Another Hello, world !')\n",
        "print(\"Hello,\",\"world !\",sep=''+\"hello\")"
      ],
      "metadata": {
        "colab": {
          "base_uri": "https://localhost:8080/"
        },
        "id": "Hl1K3uBdvHV7",
        "outputId": "6f9797f6-db7e-4f64-c45c-3c57bbb274d6"
      },
      "execution_count": 15,
      "outputs": [
        {
          "output_type": "stream",
          "name": "stdout",
          "text": [
            "Hello,////////world !\n",
            "Hello,????????world !\n",
            "Hello,helloworld !\n",
            "Hello,Another Hello, world !world !\n",
            "Hello,helloworld !\n"
          ]
        }
      ]
    },
    {
      "cell_type": "markdown",
      "source": [
        "In here i've used the sep key word .\n",
        "You can concatenate in it or send only one argument and it could be a variable .\n",
        "The lesson here is that it would replace that coma with what you've made on the sep variable and that's it ."
      ],
      "metadata": {
        "id": "y1tvVrvW2WQg"
      }
    },
    {
      "cell_type": "code",
      "source": [
        "print(\"Hello, world !\",sep=''+\"hello\")"
      ],
      "metadata": {
        "colab": {
          "base_uri": "https://localhost:8080/"
        },
        "id": "sWTkm2DD6cRZ",
        "outputId": "4ae7edfe-88e9-457e-d99c-cfadcaf64509"
      },
      "execution_count": 17,
      "outputs": [
        {
          "output_type": "stream",
          "name": "stdout",
          "text": [
            "Hello, world !\n"
          ]
        }
      ]
    },
    {
      "cell_type": "code",
      "source": [
        "variable = \"Hello ,world !\"\n",
        "print(variable,end=\"Hello\")\n",
        "print(variable,end=\"\\n\")\n",
        "print(variable,end=\"world !\")\n",
        "print(variable,end=\"This is an example \")"
      ],
      "metadata": {
        "colab": {
          "base_uri": "https://localhost:8080/"
        },
        "id": "k8--OfwZ2BjT",
        "outputId": "5264b683-8b30-4970-c59a-50063f03d6e4"
      },
      "execution_count": 18,
      "outputs": [
        {
          "output_type": "stream",
          "name": "stdout",
          "text": [
            "Hello ,world !HelloHello ,world !\n",
            "Hello ,world !world !Hello ,world !This is an example "
          ]
        }
      ]
    },
    {
      "cell_type": "markdown",
      "source": [
        "In here , i've sent a variable to print then added the end keyword , the end keyword would be placed at the end of the print , you can send whatever string in it .\n",
        "The same rules as sep would apply ."
      ],
      "metadata": {
        "id": "oR4gEgGL3W8h"
      }
    },
    {
      "cell_type": "code",
      "source": [],
      "metadata": {
        "id": "2B0prODC3osF"
      },
      "execution_count": null,
      "outputs": []
    }
  ]
}